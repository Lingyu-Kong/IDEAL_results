{
 "cells": [
  {
   "cell_type": "markdown",
   "metadata": {},
   "source": [
    "## Download Trajectory Data"
   ]
  },
  {
   "cell_type": "code",
   "execution_count": null,
   "metadata": {},
   "outputs": [],
   "source": [
    "! wget https://cloud.tsinghua.edu.cn/f/55c49b18afc3483a9945/?dl=1 -O Al2O3_200K_50ps.xyz\n",
    "! wget https://cloud.tsinghua.edu.cn/f/2275f7fd2ae94a3099b8/?dl=1 -O Al2O3_9000K_50ps.xyz"
   ]
  },
  {
   "cell_type": "code",
   "execution_count": null,
   "metadata": {},
   "outputs": [],
   "source": [
    "from ase.io import read\n",
    "\n",
    "atoms_list_200K = read('Al2O3_200K_50ps.xyz', index=':')\n",
    "atoms_list_9000K = read('Al2O3_9000K_50ps.xyz', index=':')\n",
    "\n",
    "print(\"Length of the MD trajectory: \", len(atoms_list_200K)+len(atoms_list_9000K))\n",
    "print(\"Number of atoms in each frame: \", len(atoms_list_200K[0]))"
   ]
  },
  {
   "cell_type": "markdown",
   "metadata": {},
   "source": [
    "## Mean Square Displacement and Accumulated Number of DFT"
   ]
  },
  {
   "cell_type": "code",
   "execution_count": null,
   "metadata": {},
   "outputs": [],
   "source": [
    "! wget https://cloud.tsinghua.edu.cn/f/41bcf8a2b708488ea06e/?dl=1 -O msd_traj.npz\n",
    "! pip install seaborn"
   ]
  },
  {
   "cell_type": "code",
   "execution_count": null,
   "metadata": {},
   "outputs": [],
   "source": [
    "import numpy as np\n",
    "import matplotlib.pyplot as plt\n",
    "from matplotlib.colors import ListedColormap\n",
    "import seaborn as sns\n",
    "\n",
    "data = np.load('msd_traj.npz')\n",
    "x = data['x']\n",
    "msd_traj = data['msd_traj']\n",
    "sample_num = data['sample_num']\n",
    "\n",
    "plt.rcParams['xtick.labelsize'] = 20  \n",
    "plt.rcParams['ytick.labelsize'] = 20\n",
    "\n",
    "fig, ax1 = plt.subplots(figsize=(8, 6))\n",
    "# msd曲线\n",
    "sns.lineplot(x=x, y=np.array(msd_traj), ax=ax1, label=\"MSD\", color=\"red\", linewidth=3)  \n",
    "max_msd = np.max(msd_traj)\n",
    "ax1.set_ylim(0, max_msd*1.2)  \n",
    "ax1.set_xlim(0, 100)  \n",
    "ax1.set_xlabel(\"Time (ps)\", fontsize=20)\n",
    "ax1.set_ylabel(\"MSD (Å$^2$)\", fontsize=20)\n",
    "ax1.yaxis.label.set_color(\"red\")\n",
    "ax1.tick_params(axis='y', colors=\"red\")\n",
    "# 温度区域\n",
    "temp_colors = ['white', 'coral']  \n",
    "cmap = ListedColormap(temp_colors)  \n",
    "ax1.fill_between([0, 50], 0, max_msd*1.2, color=cmap(0), alpha=0.1)  \n",
    "ax1.fill_between([50, 100], 0, max_msd*1.2, color=cmap(1), alpha=0.1)\n",
    "# sample_num曲线\n",
    "ax2 = ax1.twinx()  \n",
    "sns.lineplot(x=x, y=np.array(sample_num), ax=ax2, label=\"DFT Calls\", color=\"blue\", linewidth=3)  \n",
    "max_sample_num = sample_num[-1]\n",
    "ax2.set_xlim(0, 100)  \n",
    "ax2.set_ylim(0, max_sample_num*2)  \n",
    "ax2.set_ylabel(\"Number of DFT Calls\", fontsize=20)\n",
    "ax2.yaxis.label.set_color(\"blue\")\n",
    "ax2.spines['right'].set_color(\"blue\")\n",
    "ax2.spines['left'].set_color(\"red\")\n",
    "ax2.tick_params(axis='y', colors=\"blue\")\n",
    "# 调整横轴显示范围\n",
    "ax1.set_xlim(0, 100)\n",
    "ax1.set_xticks([0, 25, 50, 75, 100])  # 设置刻度位置\n",
    "ax1.set_xticklabels(['0', '25', '50', '75', '100'], fontsize=20)\n",
    "# 在x=50处绘制虚线并添加标签\n",
    "ax1.axvline(x=50, color='gray', linestyle='--', linewidth=3)\n",
    "ax1.text(30, max_msd * 0.83, '200K', color='grey', fontsize=20, ha='center')\n",
    "ax1.text(70, max_msd * 0.83, '9000K', color='grey', fontsize=20, ha='center')\n",
    "## 设置图例\n",
    "lines, labels = ax1.get_legend_handles_labels()  \n",
    "lines2, labels2 = ax2.get_legend_handles_labels()  \n",
    "ax2.legend(lines + lines2, labels + labels2, loc='upper left', prop = {'size':20}) \n",
    "ax1.legend().remove() \n",
    "plt.title(\"MD Trajectory of Al2O3$_{810}$\", fontsize=20)\n",
    "plt.tight_layout()\n",
    "plt.show()"
   ]
  },
  {
   "cell_type": "markdown",
   "metadata": {},
   "source": [
    "## Al-O RDF"
   ]
  },
  {
   "cell_type": "code",
   "execution_count": null,
   "metadata": {},
   "outputs": [],
   "source": [
    "! wget https://cloud.tsinghua.edu.cn/f/a823f93564f144c9bf3c/?dl=1 -O Al2O3_9000K_Al_O.npz\n",
    "! wget https://cloud.tsinghua.edu.cn/f/48c75524eceb4c938fce/?dl=1 -O Al2O3_9000K_O_O.npz\n",
    "! wget https://cloud.tsinghua.edu.cn/f/f68129a471b5420ab52a/?dl=1 -O Al2O3_9000K_Al_Al.npz"
   ]
  },
  {
   "cell_type": "code",
   "execution_count": null,
   "metadata": {},
   "outputs": [],
   "source": [
    "import numpy as np\n",
    "import matplotlib.pyplot as plt\n",
    "import seaborn as sns\n",
    "\n",
    "data = np.load('Al2O3_9000K_Al_O.npz')\n",
    "\n",
    "x1= data['x1']\n",
    "y1 = data['y1']\n",
    "x2 = data['x2']\n",
    "y2 = data['y2']\n",
    "\n",
    "plt.figure(figsize=(8, 6))\n",
    "fig, ax1 = plt.subplots()\n",
    "sns.lineplot(x=x1, y=y1, ax=ax1, label=\"solid\", color=\"red\", linewidth=3)\n",
    "ax1.set_xlim(0, 10)\n",
    "ax1.set_xlabel(\"r (Å)\", fontsize=20)\n",
    "ax1.set_ylabel(\"RDF\", fontsize=20)\n",
    "sns.lineplot(x=x2, y=y2, ax=ax1, label=\"liquid\", color=\"blue\", linewidth=3)\n",
    "ax1.legend(loc='upper right', prop = {'size':20}) \n",
    "ax1.set_title(\"RDF Al-O\", fontsize=20)\n",
    "plt.tight_layout()\n",
    "plt.show()"
   ]
  },
  {
   "cell_type": "code",
   "execution_count": null,
   "metadata": {},
   "outputs": [],
   "source": [
    "import numpy as np\n",
    "import matplotlib.pyplot as plt\n",
    "import seaborn as sns\n",
    "\n",
    "data = np.load('Al2O3_9000K_Al_Al.npz')\n",
    "\n",
    "x1= data['x1']\n",
    "y1 = data['y1']\n",
    "x2 = data['x2']\n",
    "y2 = data['y2']\n",
    "\n",
    "plt.figure(figsize=(8, 6))\n",
    "fig, ax1 = plt.subplots()\n",
    "sns.lineplot(x=x1, y=y1, ax=ax1, label=\"solid\", color=\"red\", linewidth=3)\n",
    "ax1.set_xlim(0, 10)\n",
    "ax1.set_xlabel(\"r (Å)\", fontsize=20)\n",
    "ax1.set_ylabel(\"RDF\", fontsize=20)\n",
    "sns.lineplot(x=x2, y=y2, ax=ax1, label=\"liquid\", color=\"blue\", linewidth=3)\n",
    "ax1.legend(loc='upper right', prop = {'size':20}) \n",
    "ax1.set_title(\"RDF Al-Al\", fontsize=20)\n",
    "plt.tight_layout()\n",
    "plt.show()"
   ]
  },
  {
   "cell_type": "code",
   "execution_count": null,
   "metadata": {},
   "outputs": [],
   "source": [
    "import numpy as np\n",
    "import matplotlib.pyplot as plt\n",
    "import seaborn as sns\n",
    "\n",
    "data = np.load('Al2O3_9000K_O_O.npz')\n",
    "\n",
    "x1= data['x1']\n",
    "y1 = data['y1']\n",
    "x2 = data['x2']\n",
    "y2 = data['y2']\n",
    "\n",
    "plt.figure(figsize=(8, 6))\n",
    "fig, ax1 = plt.subplots()\n",
    "sns.lineplot(x=x1, y=y1, ax=ax1, label=\"solid\", color=\"red\", linewidth=3)\n",
    "ax1.set_xlim(0, 10)\n",
    "ax1.set_xlabel(\"r (Å)\", fontsize=20)\n",
    "ax1.set_ylabel(\"RDF\", fontsize=20)\n",
    "sns.lineplot(x=x2, y=y2, ax=ax1, label=\"liquid\", color=\"blue\", linewidth=3)\n",
    "ax1.legend(loc='upper right', prop = {'size':20}) \n",
    "ax1.set_title(\"RDF O-O\", fontsize=20)\n",
    "plt.tight_layout()\n",
    "plt.show()"
   ]
  },
  {
   "cell_type": "markdown",
   "metadata": {},
   "source": [
    "## Equilibrium NPT MD Simulation (Energy and Density)"
   ]
  },
  {
   "cell_type": "code",
   "execution_count": null,
   "metadata": {},
   "outputs": [],
   "source": [
    "! wget https://cloud.tsinghua.edu.cn/f/d81452e782b044438cc2/?dl=1 -O Al2O3_180_NPT.npz\n",
    "! wget https://cloud.tsinghua.edu.cn/f/7b67274eb345413ba8b6/?dl=1 -O Al2O3_360_NPT.npz\n",
    "! wget https://cloud.tsinghua.edu.cn/f/c0eff1e73bd94ad78e90/?dl=1 -O Al2O3_540_NPT.npz\n",
    "! wget https://cloud.tsinghua.edu.cn/f/e42abe0e67334febb9b4/?dl=1 -O Al2O3_720_NPT.npz\n",
    "! wget https://cloud.tsinghua.edu.cn/f/3b2bf13ba152481898ba/?dl=1 -O Al2O3_1440_NPT.npz"
   ]
  },
  {
   "cell_type": "code",
   "execution_count": null,
   "metadata": {},
   "outputs": [],
   "source": [
    "import numpy as np\n",
    "\n",
    "sizes = [180, 360, 540, 720, 1440]\n",
    "plt.figure()\n",
    "for size in sizes:\n",
    "    data = np.load(f'Al2O3_{size}_NPT.npz')\n",
    "    temp = data['temp']\n",
    "    e = data['e']/size\n",
    "    plt.plot(temp, e, 'o-', label=f'Li{size}', linewidth=3)\n",
    "plt.xlabel('Temperature ($K$)', fontsize=15)\n",
    "plt.ylabel('Energy ($eV/atom$)', fontsize=15)\n",
    "plt.xlim(2150, 2900)\n",
    "plt.legend(fontsize=15, loc='upper left')\n",
    "plt.tick_params(axis='both', which='major', labelsize=15)\n",
    "plt.tight_layout()\n",
    "plt.show()"
   ]
  },
  {
   "cell_type": "code",
   "execution_count": null,
   "metadata": {},
   "outputs": [],
   "source": [
    "import numpy as np\n",
    "\n",
    "sizes = [180, 360, 540, 720, 1440]\n",
    "plt.figure()\n",
    "for size in sizes:\n",
    "    data = np.load(f'Al2O3_{size}_NPT.npz')\n",
    "    temp = data['temp']\n",
    "    density = data['density']\n",
    "    plt.plot(temp, density, 'o-', label=f'Li{size}', linewidth=3)\n",
    "plt.xlabel('Temperature ($K$)', fontsize=15)\n",
    "plt.ylabel('Energy ($eV/atom$)', fontsize=15)\n",
    "plt.xlim(2150, 2900)\n",
    "plt.legend(fontsize=15, loc='upper left')\n",
    "plt.tick_params(axis='both', which='major', labelsize=15)\n",
    "plt.tight_layout()\n",
    "plt.show()"
   ]
  },
  {
   "cell_type": "markdown",
   "metadata": {},
   "source": [
    "## Download Actively Learned Model"
   ]
  },
  {
   "cell_type": "code",
   "execution_count": 2,
   "metadata": {},
   "outputs": [
    {
     "name": "stdout",
     "output_type": "stream",
     "text": [
      "--2024-02-20 17:45:34--  https://cloud.tsinghua.edu.cn/f/7ed9ed1511004099a5f2/?dl=1\n",
      "Resolving cloud.tsinghua.edu.cn (cloud.tsinghua.edu.cn)... 166.111.6.101, 2402:f000:1:406:166:111:6:101\n",
      "Connecting to cloud.tsinghua.edu.cn (cloud.tsinghua.edu.cn)|166.111.6.101|:443... connected.\n",
      "HTTP request sent, awaiting response... 302 Found\n",
      "Location: https://cloud.tsinghua.edu.cn/seafhttp/files/ef2b83a3-56f5-4567-aa91-f50e8838fbf1/m3gnet_Al2O3.pth [following]\n",
      "--2024-02-20 17:45:35--  https://cloud.tsinghua.edu.cn/seafhttp/files/ef2b83a3-56f5-4567-aa91-f50e8838fbf1/m3gnet_Al2O3.pth\n",
      "Reusing existing connection to cloud.tsinghua.edu.cn:443.\n",
      "HTTP request sent, awaiting response... 200 OK\n",
      "Length: 18705279 (18M) [application/octet-stream]\n",
      "Saving to: ‘m3gnet_Al2O3.pth’\n",
      "\n",
      "m3gnet_Al2O3.pth    100%[===================>]  17.84M  32.1MB/s    in 0.6s    \n",
      "\n",
      "2024-02-20 17:45:35 (32.1 MB/s) - ‘m3gnet_Al2O3.pth’ saved [18705279/18705279]\n",
      "\n",
      "--2024-02-20 17:45:36--  https://cloud.tsinghua.edu.cn/f/0291664ab1b543caaf60/?dl=1\n",
      "Resolving cloud.tsinghua.edu.cn (cloud.tsinghua.edu.cn)... 166.111.6.101, 2402:f000:1:406:166:111:6:101\n",
      "Connecting to cloud.tsinghua.edu.cn (cloud.tsinghua.edu.cn)|166.111.6.101|:443... connected.\n",
      "HTTP request sent, awaiting response... 302 Found\n",
      "Location: https://cloud.tsinghua.edu.cn/seafhttp/files/47481ced-fe2b-48b5-9657-86b750ae2fc0/total.xyz [following]\n",
      "--2024-02-20 17:45:36--  https://cloud.tsinghua.edu.cn/seafhttp/files/47481ced-fe2b-48b5-9657-86b750ae2fc0/total.xyz\n",
      "Reusing existing connection to cloud.tsinghua.edu.cn:443.\n",
      "HTTP request sent, awaiting response... 200 OK\n",
      "Length: 47126612 (45M) [application/octet-stream]\n",
      "Saving to: ‘training_data.xyz’\n",
      "\n",
      "training_data.xyz   100%[===================>]  44.94M  34.1MB/s    in 1.3s    \n",
      "\n",
      "2024-02-20 17:45:38 (34.1 MB/s) - ‘training_data.xyz’ saved [47126612/47126612]\n",
      "\n",
      "--2024-02-20 17:45:38--  https://cloud.tsinghua.edu.cn/f/594d1cd6406d4e768905/?dl=1\n",
      "Resolving cloud.tsinghua.edu.cn (cloud.tsinghua.edu.cn)... 166.111.6.101, 2402:f000:1:406:166:111:6:101\n",
      "Connecting to cloud.tsinghua.edu.cn (cloud.tsinghua.edu.cn)|166.111.6.101|:443... connected.\n",
      "HTTP request sent, awaiting response... 302 Found\n",
      "Location: https://cloud.tsinghua.edu.cn/seafhttp/files/82332616-c114-4c69-afc3-01a1310b2c97/Al2O3_9000K_val.xyz [following]\n",
      "--2024-02-20 17:45:39--  https://cloud.tsinghua.edu.cn/seafhttp/files/82332616-c114-4c69-afc3-01a1310b2c97/Al2O3_9000K_val.xyz\n",
      "Reusing existing connection to cloud.tsinghua.edu.cn:443.\n",
      "HTTP request sent, awaiting response... 200 OK\n",
      "Length: 49728260 (47M) [application/octet-stream]\n",
      "Saving to: ‘test_data.xyz’\n",
      "\n",
      "test_data.xyz       100%[===================>]  47.42M  44.3MB/s    in 1.1s    \n",
      "\n",
      "2024-02-20 17:45:40 (44.3 MB/s) - ‘test_data.xyz’ saved [49728260/49728260]\n",
      "\n"
     ]
    }
   ],
   "source": [
    "! wget https://cloud.tsinghua.edu.cn/f/7ed9ed1511004099a5f2/?dl=1 -O m3gnet_Al2O3.pth\n",
    "! wget https://cloud.tsinghua.edu.cn/f/0291664ab1b543caaf60/?dl=1 -O training_data.xyz\n",
    "! wget https://cloud.tsinghua.edu.cn/f/594d1cd6406d4e768905/?dl=1 -O test_data.xyz"
   ]
  },
  {
   "cell_type": "code",
   "execution_count": 1,
   "metadata": {},
   "outputs": [
    {
     "name": "stderr",
     "output_type": "stream",
     "text": [
      "/root/miniconda3/envs/ideal/lib/python3.9/site-packages/tqdm/auto.py:21: TqdmWarning: IProgress not found. Please update jupyter and ipywidgets. See https://ipywidgets.readthedocs.io/en/stable/user_install.html\n",
      "  from .autonotebook import tqdm as notebook_tqdm\n"
     ]
    },
    {
     "name": "stdout",
     "output_type": "stream",
     "text": [
      "Loading the model from ./m3gnet_Al2O3.pth\n",
      "MAE of energy in eV/atom:  0.007487019402510509\n",
      "MAE of force in eV/A:  0.04688133934015992\n",
      "MAE of stress in GPa:  0.20197526229490462\n"
     ]
    }
   ],
   "source": [
    "from ase.io import read\n",
    "from kinetics.datasets.utils.build import build_dataloader\n",
    "from kinetics.forcefield.potential import Potential, batch_to_dict\n",
    "import numpy as np\n",
    "import torch\n",
    "\n",
    "potential = Potential.load(device=\"cuda:0\", load_path=\"./m3gnet_Al2O3.pth\")\n",
    "atoms_list = read(\"test_data.xyz\", index=\":\")\n",
    "test_energies = []\n",
    "test_forces = []\n",
    "test_stresses = []\n",
    "for _atoms in atoms_list:\n",
    "    test_energies.append(_atoms.get_potential_energy())\n",
    "    test_forces.append(_atoms.get_forces())\n",
    "    test_stresses.append(_atoms.get_stress(voigt=False))\n",
    "    \n",
    "dataloader = build_dataloader(atoms_list,\n",
    "                              test_energies,\n",
    "                              test_forces,\n",
    "                              test_stresses,\n",
    "                              batch_size=4,\n",
    "                              shuffle=False,\n",
    "                              num_workers=1,\n",
    "                              pin_memory=True)\n",
    "predicted_energies=[]\n",
    "predicted_forces=[]\n",
    "predicted_stresses=[]\n",
    "for _, graph_batch in enumerate(dataloader):\n",
    "    graph_batch = graph_batch.to(potential.device)\n",
    "    input = batch_to_dict(graph_batch)\n",
    "    results = potential(input, include_forces=True, include_stresses=True)\n",
    "    energies = results[\"energies\"]\n",
    "    predicted_energies.extend(energies.detach().cpu().numpy().tolist())\n",
    "    forces_tuple = torch.split(results[\"forces\"].cpu().detach(), graph_batch.num_atoms.cpu().tolist(), dim=0)\n",
    "    for force in forces_tuple:\n",
    "        predicted_forces.append(np.array(force))\n",
    "        predicted_stresses.extend(list(results[\"stresses\"].cpu().detach().numpy()))\n",
    "        \n",
    "            \n",
    "mae_e_list=[]\n",
    "mae_f_list=[]\n",
    "mae_s_list=[]\n",
    "for i in range(len(atoms_list)):\n",
    "    e,f,s = test_energies[i],test_forces[i],test_stresses[i]\n",
    "    num_atoms = len(atoms_list[i])\n",
    "    mae_e = torch.nn.L1Loss()(torch.tensor(e/num_atoms),torch.tensor(predicted_energies[i]/num_atoms)).item()\n",
    "    mae_f = torch.nn.L1Loss()(torch.tensor(f),torch.tensor(predicted_forces[i])).item()\n",
    "    mae_s = torch.nn.L1Loss()(torch.tensor(s),torch.tensor(predicted_stresses[i])).item()\n",
    "    mae_e_list.append(mae_e)\n",
    "    mae_f_list.append(mae_f)\n",
    "    mae_s_list.append(mae_s)\n",
    "    \n",
    "print(\"MAE of energy in eV/atom: \",np.mean(mae_e_list))\n",
    "print(\"MAE of force in eV/A: \",np.mean(mae_f_list))\n",
    "print(\"MAE of stress in GPa: \",np.mean(mae_s_list))"
   ]
  },
  {
   "cell_type": "code",
   "execution_count": null,
   "metadata": {},
   "outputs": [],
   "source": []
  }
 ],
 "metadata": {
  "kernelspec": {
   "display_name": "ideal",
   "language": "python",
   "name": "python3"
  },
  "language_info": {
   "codemirror_mode": {
    "name": "ipython",
    "version": 3
   },
   "file_extension": ".py",
   "mimetype": "text/x-python",
   "name": "python",
   "nbconvert_exporter": "python",
   "pygments_lexer": "ipython3",
   "version": "3.9.18"
  }
 },
 "nbformat": 4,
 "nbformat_minor": 2
}
