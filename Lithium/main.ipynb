{
 "cells": [
  {
   "cell_type": "markdown",
   "metadata": {},
   "source": [
    "## Download Trajectory Data"
   ]
  },
  {
   "cell_type": "code",
   "execution_count": null,
   "metadata": {},
   "outputs": [],
   "source": [
    "! wget https://cloud.tsinghua.edu.cn/f/8b9b55f0f15140589dcd/?dl=1 -O Li512_800K_100ps.xyz"
   ]
  },
  {
   "cell_type": "code",
   "execution_count": null,
   "metadata": {},
   "outputs": [],
   "source": [
    "from ase.io import read\n",
    "\n",
    "atoms_list = read('Li512_800K_100ps.xyz', index=':') # This reading process will take a long time\n",
    "print(\"Length of the MD trajectory: \", len(atoms_list))\n",
    "print(\"Number of atoms in each frame: \", len(atoms_list[0]))"
   ]
  },
  {
   "cell_type": "markdown",
   "metadata": {},
   "source": [
    "## Mean Square Displacement and Accumulated Number of DFT"
   ]
  },
  {
   "cell_type": "code",
   "execution_count": null,
   "metadata": {},
   "outputs": [],
   "source": [
    "! wget https://cloud.tsinghua.edu.cn/f/e58e94359f3242359739/?dl=1 -O msd_traj.npz"
   ]
  },
  {
   "cell_type": "code",
   "execution_count": null,
   "metadata": {},
   "outputs": [],
   "source": [
    "! pip install seaborn"
   ]
  },
  {
   "cell_type": "code",
   "execution_count": null,
   "metadata": {},
   "outputs": [],
   "source": [
    "import numpy as np\n",
    "import matplotlib.pyplot as plt\n",
    "from matplotlib.colors import ListedColormap\n",
    "import seaborn as sns\n",
    "\n",
    "data = np.load('msd_traj.npz')\n",
    "x = data['x']\n",
    "msd_traj = data['msd_traj']\n",
    "sample_num = data['sample_num']\n",
    "\n",
    "plt.rcParams['xtick.labelsize'] = 20  \n",
    "plt.rcParams['ytick.labelsize'] = 20\n",
    "\n",
    "fig, ax1 = plt.subplots(figsize=(8, 6))\n",
    "# msd曲线\n",
    "sns.lineplot(x=x, y=np.array(msd_traj), ax=ax1, label=\"MSD\", color=\"red\", linewidth=3)  \n",
    "max_msd = np.max(msd_traj)\n",
    "ax1.set_ylim(0, max_msd*1.2)  \n",
    "ax1.set_xlim(0, 100)  \n",
    "ax1.set_xlabel(\"Time (ps)\", fontsize=20)\n",
    "ax1.set_ylabel(\"MSD (Å$^2$)\", fontsize=20)\n",
    "ax1.yaxis.label.set_color(\"red\")\n",
    "ax1.tick_params(axis='y', colors=\"red\")\n",
    "# 温度区域\n",
    "temp_colors = ['white', 'coral']  \n",
    "cmap = ListedColormap(temp_colors)  \n",
    "ax1.fill_between([0, 50], 0, max_msd*1.2, color=cmap(0), alpha=0.1)  \n",
    "ax1.fill_between([50, 100], 0, max_msd*1.2, color=cmap(1), alpha=0.1)\n",
    "# sample_num曲线\n",
    "ax2 = ax1.twinx()  \n",
    "sns.lineplot(x=x, y=np.array(sample_num), ax=ax2, label=\"DFT Calls\", color=\"blue\", linewidth=3)  \n",
    "max_sample_num = sample_num[-1]\n",
    "ax2.set_xlim(0, 100)  \n",
    "ax2.set_ylim(0, max_sample_num*2)  \n",
    "ax2.set_ylabel(\"Number of DFT Calls\", fontsize=20)\n",
    "ax2.yaxis.label.set_color(\"blue\")\n",
    "ax2.spines['right'].set_color(\"blue\")\n",
    "ax2.spines['left'].set_color(\"red\")\n",
    "ax2.tick_params(axis='y', colors=\"blue\")\n",
    "# 调整横轴显示范围\n",
    "ax1.set_xlim(0, 100)\n",
    "ax1.set_xticks([0, 25, 50, 75, 100])  # 设置刻度位置\n",
    "ax1.set_xticklabels(['0', '25', '50', '75', '100'], fontsize=20)\n",
    "# 在x=50处绘制虚线并添加标签\n",
    "ax1.axvline(x=50, color='gray', linestyle='--', linewidth=3)\n",
    "ax1.text(30, max_msd * 0.83, '200K', color='grey', fontsize=20, ha='center')\n",
    "ax1.text(70, max_msd * 0.83, '800K', color='grey', fontsize=20, ha='center')\n",
    "## 设置图例\n",
    "lines, labels = ax1.get_legend_handles_labels()  \n",
    "lines2, labels2 = ax2.get_legend_handles_labels()  \n",
    "ax2.legend(lines + lines2, labels + labels2, loc='upper left', prop = {'size':20}) \n",
    "ax1.legend().remove() \n",
    "plt.title(\"MD Trajectory of Li$_{512}$\", fontsize=20)\n",
    "plt.tight_layout()\n",
    "plt.show()"
   ]
  },
  {
   "cell_type": "markdown",
   "metadata": {},
   "source": [
    "## Li-Li RDF"
   ]
  },
  {
   "cell_type": "code",
   "execution_count": null,
   "metadata": {},
   "outputs": [],
   "source": [
    "! wget https://cloud.tsinghua.edu.cn/f/108b4811512443e49a27/?dl=1 -O Li512_800K_Li_Li.npz"
   ]
  },
  {
   "cell_type": "code",
   "execution_count": null,
   "metadata": {},
   "outputs": [],
   "source": [
    "import numpy as np\n",
    "import matplotlib.pyplot as plt\n",
    "import seaborn as sns\n",
    "\n",
    "data = np.load('Li512_800K_Li_Li.npz')\n",
    "\n",
    "x1= data['x1']\n",
    "y1 = data['y1']\n",
    "x2 = data['x2']\n",
    "y2 = data['y2']\n",
    "\n",
    "plt.figure(figsize=(8, 6))\n",
    "fig, ax1 = plt.subplots()\n",
    "sns.lineplot(x=x1, y=y1, ax=ax1, label=\"solid\", color=\"red\", linewidth=3)\n",
    "ax1.set_xlim(0, 10)\n",
    "ax1.set_xlabel(\"r (Å)\", fontsize=20)\n",
    "ax1.set_ylabel(\"RDF\", fontsize=20)\n",
    "sns.lineplot(x=x2, y=y2, ax=ax1, label=\"liquid\", color=\"blue\", linewidth=3)\n",
    "ax1.legend(loc='upper right', prop = {'size':20}) \n",
    "ax1.set_title(\"RDF Li-Li\", fontsize=20)\n",
    "plt.tight_layout()\n",
    "plt.show()"
   ]
  },
  {
   "cell_type": "markdown",
   "metadata": {},
   "source": [
    "## Equilibrium NPT MD Simulation (Energy and Density)"
   ]
  },
  {
   "cell_type": "code",
   "execution_count": null,
   "metadata": {},
   "outputs": [],
   "source": [
    "! wget https://cloud.tsinghua.edu.cn/f/f97314c763e749c7a555/?dl=1 -O Li54_NPT.npz\n",
    "! wget https://cloud.tsinghua.edu.cn/f/c094f7aa5b7e4f4abbfd/?dl=1 -O Li128_NPT.npz\n",
    "! wget https://cloud.tsinghua.edu.cn/f/0bd5514549a844559214/?dl=1 -O Li432_NPT.npz\n",
    "! wget https://cloud.tsinghua.edu.cn/f/dfcf028e8d14435ab283/?dl=1 -O Li686_NPT.npz\n",
    "! wget https://cloud.tsinghua.edu.cn/f/206a73bc85d14144b7e5/?dl=1 -O Li1024_NPT.npz "
   ]
  },
  {
   "cell_type": "code",
   "execution_count": null,
   "metadata": {},
   "outputs": [],
   "source": [
    "import numpy as np\n",
    "\n",
    "sizes = [54, 128, 432, 686, 1024]\n",
    "plt.figure()\n",
    "for size in sizes:\n",
    "    data = np.load(f'Li{size}_NPT.npz')\n",
    "    temp = data['temp']\n",
    "    e = data['e']/size\n",
    "    plt.plot(temp, e, 'o-', label=f'Li{size}', linewidth=3)\n",
    "plt.xlabel('Temperature ($K$)', fontsize=15)\n",
    "plt.ylabel('Energy ($eV/atom$)', fontsize=15)\n",
    "plt.xlim(250, 750)\n",
    "# plt.xticks(np.arange(300, 1000, 100))\n",
    "plt.legend(fontsize=15, loc='upper left')\n",
    "plt.tick_params(axis='both', which='major', labelsize=15)\n",
    "plt.tight_layout()\n",
    "plt.show()"
   ]
  },
  {
   "cell_type": "code",
   "execution_count": null,
   "metadata": {},
   "outputs": [],
   "source": [
    "import numpy as np\n",
    "\n",
    "sizes = [54, 128, 432, 686, 1024]\n",
    "plt.figure()\n",
    "for size in sizes:\n",
    "    data = np.load(f'Li{size}_NPT.npz')\n",
    "    temp = data['temp']\n",
    "    density = data['density']\n",
    "    plt.plot(temp, density, 'o-', label=f'Li{size}', linewidth=3)\n",
    "plt.xlabel('Temperature ($K$)', fontsize=15)\n",
    "plt.ylabel('Density ($g/cm^3$)', fontsize=15)\n",
    "plt.xlim(250, 750)\n",
    "# plt.xticks(np.arange(300, 1000, 100))\n",
    "plt.legend(fontsize=15, loc='upper left')\n",
    "plt.tick_params(axis='both', which='major', labelsize=15)\n",
    "plt.tight_layout()\n",
    "plt.show()"
   ]
  },
  {
   "cell_type": "markdown",
   "metadata": {},
   "source": [
    "## Download Actively Learned Model"
   ]
  },
  {
   "cell_type": "code",
   "execution_count": 2,
   "metadata": {},
   "outputs": [
    {
     "name": "stdout",
     "output_type": "stream",
     "text": [
      "--2024-02-20 17:27:41--  https://cloud.tsinghua.edu.cn/f/87224078e5004c03b514/?dl=1\n",
      "Resolving cloud.tsinghua.edu.cn (cloud.tsinghua.edu.cn)... 166.111.6.101, 2402:f000:1:406:166:111:6:101\n",
      "Connecting to cloud.tsinghua.edu.cn (cloud.tsinghua.edu.cn)|166.111.6.101|:443... connected.\n",
      "HTTP request sent, awaiting response... 302 Found\n",
      "Location: https://cloud.tsinghua.edu.cn/seafhttp/files/4bfa6791-0b95-4863-b59c-7d914a8db2c5/m3gnet_Li_bcc_bootstrap.pth [following]\n",
      "--2024-02-20 17:27:41--  https://cloud.tsinghua.edu.cn/seafhttp/files/4bfa6791-0b95-4863-b59c-7d914a8db2c5/m3gnet_Li_bcc_bootstrap.pth\n",
      "Reusing existing connection to cloud.tsinghua.edu.cn:443.\n",
      "HTTP request sent, awaiting response... 200 OK\n",
      "Length: 18705279 (18M) [application/octet-stream]\n",
      "Saving to: ‘m3gnet_Li.pth’\n",
      "\n",
      "m3gnet_Li.pth       100%[===================>]  17.84M  33.1MB/s    in 0.5s    \n",
      "\n",
      "2024-02-20 17:27:42 (33.1 MB/s) - ‘m3gnet_Li.pth’ saved [18705279/18705279]\n",
      "\n",
      "--2024-02-20 17:27:43--  https://cloud.tsinghua.edu.cn/f/11817a1cd7e146a48b0b/?dl=1\n",
      "Resolving cloud.tsinghua.edu.cn (cloud.tsinghua.edu.cn)... 166.111.6.101, 2402:f000:1:406:166:111:6:101\n",
      "Connecting to cloud.tsinghua.edu.cn (cloud.tsinghua.edu.cn)|166.111.6.101|:443... connected.\n",
      "HTTP request sent, awaiting response... 302 Found\n",
      "Location: https://cloud.tsinghua.edu.cn/seafhttp/files/3b137b9f-9c00-4afc-8216-3ed67ca94986/total_with_bcc_bootstrap.xyz [following]\n",
      "--2024-02-20 17:27:43--  https://cloud.tsinghua.edu.cn/seafhttp/files/3b137b9f-9c00-4afc-8216-3ed67ca94986/total_with_bcc_bootstrap.xyz\n",
      "Reusing existing connection to cloud.tsinghua.edu.cn:443.\n",
      "HTTP request sent, awaiting response... 200 OK\n",
      "Length: 13845276 (13M) [application/octet-stream]\n",
      "Saving to: ‘training_data.xyz’\n",
      "\n",
      "training_data.xyz   100%[===================>]  13.20M  17.2MB/s    in 0.8s    \n",
      "\n",
      "2024-02-20 17:27:44 (17.2 MB/s) - ‘training_data.xyz’ saved [13845276/13845276]\n",
      "\n",
      "--2024-02-20 17:27:44--  https://cloud.tsinghua.edu.cn/f/691de1f028d643e6914a/?dl=1\n",
      "Resolving cloud.tsinghua.edu.cn (cloud.tsinghua.edu.cn)... 166.111.6.101, 2402:f000:1:406:166:111:6:101\n",
      "Connecting to cloud.tsinghua.edu.cn (cloud.tsinghua.edu.cn)|166.111.6.101|:443... connected.\n",
      "HTTP request sent, awaiting response... 302 Found\n",
      "Location: https://cloud.tsinghua.edu.cn/seafhttp/files/63183b84-3af7-4cd9-a57b-b6ff91709b5a/Li_800K_val.xyz [following]\n",
      "--2024-02-20 17:27:45--  https://cloud.tsinghua.edu.cn/seafhttp/files/63183b84-3af7-4cd9-a57b-b6ff91709b5a/Li_800K_val.xyz\n",
      "Reusing existing connection to cloud.tsinghua.edu.cn:443.\n",
      "HTTP request sent, awaiting response... 200 OK\n",
      "Length: 32601616 (31M) [application/octet-stream]\n",
      "Saving to: ‘test_data.xyz’\n",
      "\n",
      "test_data.xyz       100%[===================>]  31.09M  42.6MB/s    in 0.7s    \n",
      "\n",
      "2024-02-20 17:27:45 (42.6 MB/s) - ‘test_data.xyz’ saved [32601616/32601616]\n",
      "\n"
     ]
    }
   ],
   "source": [
    "! wget https://cloud.tsinghua.edu.cn/f/87224078e5004c03b514/?dl=1 -O m3gnet_Li.pth\n",
    "! wget https://cloud.tsinghua.edu.cn/f/11817a1cd7e146a48b0b/?dl=1 -O training_data.xyz\n",
    "! wget https://cloud.tsinghua.edu.cn/f/691de1f028d643e6914a/?dl=1 -O test_data.xyz"
   ]
  },
  {
   "cell_type": "code",
   "execution_count": 1,
   "metadata": {},
   "outputs": [
    {
     "name": "stderr",
     "output_type": "stream",
     "text": [
      "/root/miniconda3/envs/ideal/lib/python3.9/site-packages/tqdm/auto.py:21: TqdmWarning: IProgress not found. Please update jupyter and ipywidgets. See https://ipywidgets.readthedocs.io/en/stable/user_install.html\n",
      "  from .autonotebook import tqdm as notebook_tqdm\n"
     ]
    },
    {
     "name": "stdout",
     "output_type": "stream",
     "text": [
      "Loading the model from ./m3gnet_Li.pth\n",
      "MAE of energy:  0.0026602484636655214\n",
      "MAE of force:  0.02722653872417956\n",
      "MAE of stress:  0.2315981723412802\n"
     ]
    }
   ],
   "source": [
    "from ase.io import read\n",
    "from kinetics.datasets.utils.build import build_dataloader\n",
    "from kinetics.forcefield.potential import Potential, batch_to_dict\n",
    "import numpy as np\n",
    "import torch\n",
    "\n",
    "potential = Potential.load(device=\"cuda:0\", load_path=\"./m3gnet_Li.pth\")\n",
    "atoms_list = read(\"test_data.xyz\", index=\":\")\n",
    "test_energies = []\n",
    "test_forces = []\n",
    "test_stresses = []\n",
    "for _atoms in atoms_list:\n",
    "    test_energies.append(_atoms.get_potential_energy())\n",
    "    test_forces.append(_atoms.get_forces())\n",
    "    test_stresses.append(_atoms.get_stress(voigt=False))\n",
    "    \n",
    "dataloader = build_dataloader(atoms_list,\n",
    "                              test_energies,\n",
    "                              test_forces,\n",
    "                              test_stresses,\n",
    "                              batch_size=8,\n",
    "                              shuffle=False,\n",
    "                              num_workers=1,\n",
    "                              pin_memory=True)\n",
    "predicted_energies=[]\n",
    "predicted_forces=[]\n",
    "predicted_stresses=[]\n",
    "for _, graph_batch in enumerate(dataloader):\n",
    "    graph_batch = graph_batch.to(potential.device)\n",
    "    input = batch_to_dict(graph_batch)\n",
    "    results = potential(input, include_forces=True, include_stresses=True)\n",
    "    energies = results[\"energies\"]\n",
    "    predicted_energies.extend(energies.detach().cpu().numpy().tolist())\n",
    "    forces_tuple = torch.split(results[\"forces\"].cpu().detach(), graph_batch.num_atoms.cpu().tolist(), dim=0)\n",
    "    for force in forces_tuple:\n",
    "        predicted_forces.append(np.array(force))\n",
    "        predicted_stresses.extend(list(results[\"stresses\"].cpu().detach().numpy()))\n",
    "        \n",
    "            \n",
    "mae_e_list=[]\n",
    "mae_f_list=[]\n",
    "mae_s_list=[]\n",
    "for i in range(len(atoms_list)):\n",
    "    e,f,s = test_energies[i],test_forces[i],test_stresses[i]\n",
    "    num_atoms = len(atoms_list[i])\n",
    "    mae_e = torch.nn.L1Loss()(torch.tensor(e/num_atoms),torch.tensor(predicted_energies[i]/num_atoms)).item()\n",
    "    mae_f = torch.nn.L1Loss()(torch.tensor(f),torch.tensor(predicted_forces[i])).item()\n",
    "    mae_s = torch.nn.L1Loss()(torch.tensor(s),torch.tensor(predicted_stresses[i])).item()\n",
    "    mae_e_list.append(mae_e)\n",
    "    mae_f_list.append(mae_f)\n",
    "    mae_s_list.append(mae_s)\n",
    "    \n",
    "print(\"MAE of energy in eV/atom: \",np.mean(mae_e_list))\n",
    "print(\"MAE of force in eV/A: \",np.mean(mae_f_list))\n",
    "print(\"MAE of stress in GPa: \",np.mean(mae_s_list))"
   ]
  },
  {
   "cell_type": "code",
   "execution_count": null,
   "metadata": {},
   "outputs": [],
   "source": []
  }
 ],
 "metadata": {
  "kernelspec": {
   "display_name": "torch2.1",
   "language": "python",
   "name": "python3"
  },
  "language_info": {
   "codemirror_mode": {
    "name": "ipython",
    "version": 3
   },
   "file_extension": ".py",
   "mimetype": "text/x-python",
   "name": "python",
   "nbconvert_exporter": "python",
   "pygments_lexer": "ipython3",
   "version": "3.9.18"
  }
 },
 "nbformat": 4,
 "nbformat_minor": 2
}
